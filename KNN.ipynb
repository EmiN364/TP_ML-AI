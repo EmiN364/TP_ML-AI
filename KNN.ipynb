{
 "cells": [
  {
   "cell_type": "markdown",
   "metadata": {},
   "source": [
    "# Logistic regression\n",
    "\n",
    "Libraries:\n",
    "- Data management:\n",
    "    - [numpy](https://numpy.org/)\n",
    "    - [pandas](https://pandas.pydata.org/)\n",
    "    - [scipy](https://scipy.org/) \n",
    "- Modelling and scoring:\n",
    "    - [scikit-learn](https://scikit-learn.org)\n",
    "- Plotting:\n",
    "    - [seaborn](https://seaborn.pydata.org/)\n",
    "    - [matplotlib](https://matplotlib.org/)"
   ]
  },
  {
   "cell_type": "code",
   "execution_count": 4,
   "metadata": {},
   "outputs": [],
   "source": [
    "import numpy as np\n",
    "import pandas as pd\n",
    "import matplotlib.pyplot as plt\n",
    "\n",
    "\n",
    "from utils import evaluate_classification_metrics"
   ]
  },
  {
   "cell_type": "markdown",
   "metadata": {},
   "source": [
    "Here I import the `creditcard.csv` dataset, obtained from [Kaggle - Credit Card Fraud Detection](https://www.kaggle.com/datasets/mlg-ulb/creditcardfraud). The dataset contains 284,807 transactions, of which 492 are fraudulent. The goal is to predict whether a transaction is fraudulent or not based on the features provided.\n",
    "I remove the `Time` column, as it is not relevant for the model. I also remove the `Class` column from the features, as it is the target variable. I then split the data into training and testing sets, with 80% of the data used for training and 20% for testing."
   ]
  },
  {
   "cell_type": "code",
   "execution_count": 6,
   "metadata": {},
   "outputs": [],
   "source": [
    "df = pd.read_csv(\"creditcard.csv\", sep = \",\")\n",
    "\n",
    "# TODO: Separate the X and y values, tip use the .iloc method to slice the dataframe\n",
    "X = df.iloc[:, 1:-1].values\n",
    "# Get the last column as the target\n",
    "y = df.iloc[:, -1].values\n",
    "\n",
    "# Convert the pandas dataframes into np.arrays so that we can use all the previous codes we defined\n",
    "# Warning: Watch out for the dimensions!!\n",
    "X = np.array(X)\n",
    "y = np.array(y)\n"
   ]
  },
  {
   "cell_type": "markdown",
   "metadata": {},
   "source": [
    "Code to divide the dataset"
   ]
  },
  {
   "cell_type": "code",
   "execution_count": 7,
   "metadata": {},
   "outputs": [],
   "source": [
    "def train_test_split(X, y, test_size=0.2, stratify=y, random_state=42):\n",
    "    \"\"\"\n",
    "    Splits arrays or matrices into random train and test subsets. This function demonstrates how to \n",
    "    divide a dataset into training and testing sets, optionally stratifying the samples and ensuring \n",
    "    reproducibility with a random state.\n",
    "\n",
    "    Parameters:\n",
    "    - X (np.ndarray): Input features matrix, where rows represent samples and columns represent features.\n",
    "    - y (np.ndarray): Target labels array, aligned with the samples in X.\n",
    "    - test_size (float or int): Determines the size of the test set. If float, it represents a proportion \n",
    "                                of the dataset; if int, it specifies the number of samples.\n",
    "    - stratify (np.ndarray): If provided, the function will ensure the class proportions in train and test \n",
    "                             sets mirror those of the provided array, typically the target labels array.\n",
    "    - random_state (int): Seed for the random number generator to ensure reproducible splits.\n",
    "\n",
    "    Returns:\n",
    "    - X_train, X_test, y_train, y_test: Arrays containing the split of features and labels into training and \n",
    "                                        test sets.\n",
    "    \"\"\"\n",
    "    \n",
    "    # Set the seed for reproducibility\n",
    "    if random_state:\n",
    "        np.random.seed(random_state)\n",
    "\n",
    "    # Determine the number of samples to allocate to the test set\n",
    "    n_samples = X.shape[0]\n",
    "    if isinstance(test_size, float):\n",
    "        n_test = int(n_samples * test_size)\n",
    "    else:\n",
    "        n_test = test_size\n",
    "    n_train = n_samples - n_test\n",
    "\n",
    "    # Create an array of indices and shuffle if not stratifying\n",
    "    indices = np.arange(n_samples)\n",
    "    if stratify is None:\n",
    "        np.random.shuffle(indices)\n",
    "    else:\n",
    "        # For stratified splitting, determine the distribution of classes\n",
    "        unique_classes, y_indices = np.unique(stratify, return_inverse=True)\n",
    "        class_counts = np.bincount(y_indices)\n",
    "        test_counts = np.round(class_counts * test_size).astype(int)\n",
    "\n",
    "        # Allocate indices to train and test sets preserving class distribution\n",
    "        train_indices, test_indices = [], []\n",
    "        for class_index in range(len(unique_classes)):\n",
    "            class_indices = indices[y_indices == class_index]\n",
    "            np.random.shuffle(class_indices)\n",
    "            boundary = test_counts[class_index]\n",
    "            test_indices.extend(class_indices[:boundary])\n",
    "            train_indices.extend(class_indices[boundary:])\n",
    "\n",
    "        # Concatenate indices to form the final split\n",
    "        indices = train_indices + test_indices\n",
    "\n",
    "    # Use the indices to partition the dataset\n",
    "    X_train = X[indices[:n_train]]\n",
    "    X_test = X[indices[n_train:]]\n",
    "    y_train = y[indices[:n_train]]\n",
    "    y_test = y[indices[n_train:]]\n",
    "\n",
    "    return X_train, X_test, y_train, y_test\n"
   ]
  },
  {
   "cell_type": "code",
   "execution_count": null,
   "metadata": {},
   "outputs": [],
   "source": [
    "X_train, X_test, y_train, y_test = train_test_split(X, y, test_size=0.2, random_state=42)"
   ]
  },
  {
   "cell_type": "markdown",
   "metadata": {},
   "source": [
    "## Training the KNN model\n",
    "\n",
    "Now, it comes the turn to train the KNN."
   ]
  },
  {
   "cell_type": "code",
   "execution_count": 15,
   "metadata": {},
   "outputs": [
    {
     "data": {
      "text/plain": [
       "{'Confusion Matrix': [np.int64(56858),\n",
       "  np.int64(5),\n",
       "  np.int64(29),\n",
       "  np.int64(69)],\n",
       " 'Accuracy': np.float64(0.9994031003669177),\n",
       " 'Precision': np.float64(0.9324324324324325),\n",
       " 'Recall': np.float64(0.7040816326530612),\n",
       " 'Specificity': np.float64(0.9999120693596891),\n",
       " 'F1 Score': np.float64(0.8023255813953488)}"
      ]
     },
     "execution_count": 15,
     "metadata": {},
     "output_type": "execute_result"
    }
   ],
   "source": [
    "import sklearn.neighbors as sk\n",
    "\n",
    "knn = sk.KNeighborsClassifier(n_neighbors=3)\n",
    "knn.fit(X_train, y_train)\n",
    "\n",
    "evaluate_classification_metrics(y_test, knn.predict(X_test), 1)"
   ]
  },
  {
   "cell_type": "code",
   "execution_count": null,
   "metadata": {},
   "outputs": [
    {
     "name": "stdout",
     "output_type": "stream",
     "text": [
      "Ready predictions\n"
     ]
    },
    {
     "name": "stderr",
     "output_type": "stream",
     "text": [
      "C:\\Users\\EMINE\\AppData\\Local\\Temp\\ipykernel_16428\\3668830223.py:27: UserWarning: set_ticklabels() should only be used with a fixed number of ticks, i.e. after set_ticks() or using a FixedLocator.\n",
      "  ax.set_xticklabels([''] + listclasses, rotation=90)\n",
      "C:\\Users\\EMINE\\AppData\\Local\\Temp\\ipykernel_16428\\3668830223.py:28: UserWarning: set_ticklabels() should only be used with a fixed number of ticks, i.e. after set_ticks() or using a FixedLocator.\n",
      "  ax.set_yticklabels([''] + listclasses)\n"
     ]
    },
    {
     "data": {
      "image/png": "[encoded data removed]",
      "text/plain": [
       "<Figure size 640x480 with 2 Axes>"
      ]
     },
     "metadata": {},
     "output_type": "display_data"
    },
    {
     "name": "stdout",
     "output_type": "stream",
     "text": [
      "[[9.99876897e-01 1.23102896e-04]\n",
      " [1.42857143e-01 8.57142857e-01]]\n"
     ]
    }
   ],
   "source": [
    "# CONFUSION MATRIX\n",
    "\n",
    "import matplotlib.pyplot as plt\n",
    "import matplotlib.ticker as ticker\n",
    "\n",
    "listclasses = ['0', '1']\n",
    "numclasses = 2\n",
    "\n",
    "confusion = np.zeros((numclasses, numclasses))\n",
    "predictions = sk.predict(X_test)\n",
    "print(\"Ready predictions\")\n",
    "for i in range(len(y_test)):\n",
    "    confusion[int(y_test[i]), int(predictions[i])] += 1\n",
    "\n",
    "# Normalize by dividing every row by its sum\n",
    "for i in range(numclasses):\n",
    "    confusion[i] = confusion[i] / confusion[i].sum()\n",
    "\n",
    "# Set up plot\n",
    "fig = plt.figure()\n",
    "ax = fig.add_subplot(111)\n",
    "cax = ax.matshow(confusion, cmap='viridis')\n",
    "plt.title('Confusion Matrix')\n",
    "fig.colorbar(cax)\n",
    "\n",
    "# Set up axes\n",
    "ax.set_xticklabels([''] + listclasses, rotation=90)\n",
    "ax.set_yticklabels([''] + listclasses)\n",
    "\n",
    "# Force label at every tick\n",
    "ax.xaxis.set_major_locator(ticker.MultipleLocator(1))\n",
    "ax.yaxis.set_major_locator(ticker.MultipleLocator(1))\n",
    "\n",
    "# sphinx_gallery_thumbnail_number = 2\n",
    "plt.show()\n",
    "print (confusion)"
   ]
  }
 ],
 "metadata": {
  "kernelspec": {
   "display_name": "Python 3",
   "language": "python",
   "name": "python3"
  },
  "language_info": {
   "codemirror_mode": {
    "name": "ipython",
    "version": 3
   },
   "file_extension": ".py",
   "mimetype": "text/x-python",
   "name": "python",
   "nbconvert_exporter": "python",
   "pygments_lexer": "ipython3",
   "version": "3.12.9"
  }
 },
 "nbformat": 4,
 "nbformat_minor": 2
}
